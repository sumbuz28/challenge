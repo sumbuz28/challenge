{
 "cells": [
  {
   "cell_type": "code",
   "execution_count": 2,
   "metadata": {},
   "outputs": [],
   "source": [
    "%matplotlib inline\n",
    "import pandas as pd\n",
    "import numpy as np\n",
    "import matplotlib.pyplot as plt\n",
    "import os\n",
    "\n",
    "\n",
    "\n"
   ]
  },
  {
   "cell_type": "code",
   "execution_count": 3,
   "metadata": {},
   "outputs": [],
   "source": [
    "os.chdir('/Users/phil/Downloads')\n",
    "\n",
    "ccrb = pd.read_excel(\"ccrb_datatransparencyinitiative.xlsx\",sheet_name='Complaints_Allegations')"
   ]
  },
  {
   "cell_type": "code",
   "execution_count": 11,
   "metadata": {
    "scrolled": true
   },
   "outputs": [
    {
     "data": {
      "text/html": [
       "<div>\n",
       "<style scoped>\n",
       "    .dataframe tbody tr th:only-of-type {\n",
       "        vertical-align: middle;\n",
       "    }\n",
       "\n",
       "    .dataframe tbody tr th {\n",
       "        vertical-align: top;\n",
       "    }\n",
       "\n",
       "    .dataframe thead th {\n",
       "        text-align: right;\n",
       "    }\n",
       "</style>\n",
       "<table border=\"1\" class=\"dataframe\">\n",
       "  <thead>\n",
       "    <tr style=\"text-align: right;\">\n",
       "      <th></th>\n",
       "      <th>DateStamp</th>\n",
       "      <th>UniqueComplaintId</th>\n",
       "      <th>Close Year</th>\n",
       "      <th>Received Year</th>\n",
       "      <th>Borough of Occurrence</th>\n",
       "      <th>Is Full Investigation</th>\n",
       "      <th>Complaint Has Video Evidence</th>\n",
       "      <th>Complaint Filed Mode</th>\n",
       "      <th>Complaint Filed Place</th>\n",
       "      <th>Complaint Contains Stop &amp; Frisk Allegations</th>\n",
       "      <th>Incident Location</th>\n",
       "      <th>Incident Year</th>\n",
       "      <th>Encounter Outcome</th>\n",
       "      <th>Reason For Initial Contact</th>\n",
       "      <th>Allegation FADO Type</th>\n",
       "      <th>Allegation Description</th>\n",
       "    </tr>\n",
       "  </thead>\n",
       "  <tbody>\n",
       "    <tr>\n",
       "      <th>0</th>\n",
       "      <td>2016-11-29</td>\n",
       "      <td>11</td>\n",
       "      <td>2006</td>\n",
       "      <td>2005</td>\n",
       "      <td>Manhattan</td>\n",
       "      <td>False</td>\n",
       "      <td>False</td>\n",
       "      <td>On-line website</td>\n",
       "      <td>CCRB</td>\n",
       "      <td>False</td>\n",
       "      <td>Street/highway</td>\n",
       "      <td>2005</td>\n",
       "      <td>No Arrest or Summons</td>\n",
       "      <td>Other</td>\n",
       "      <td>Abuse of Authority</td>\n",
       "      <td>Threat of arrest</td>\n",
       "    </tr>\n",
       "    <tr>\n",
       "      <th>1</th>\n",
       "      <td>2016-11-29</td>\n",
       "      <td>18</td>\n",
       "      <td>2006</td>\n",
       "      <td>2004</td>\n",
       "      <td>Brooklyn</td>\n",
       "      <td>True</td>\n",
       "      <td>False</td>\n",
       "      <td>Phone</td>\n",
       "      <td>CCRB</td>\n",
       "      <td>False</td>\n",
       "      <td>Street/highway</td>\n",
       "      <td>2004</td>\n",
       "      <td>Arrest</td>\n",
       "      <td>PD suspected C/V of violation/crime - street</td>\n",
       "      <td>Abuse of Authority</td>\n",
       "      <td>Refusal to obtain medical treatment</td>\n",
       "    </tr>\n",
       "    <tr>\n",
       "      <th>2</th>\n",
       "      <td>2016-11-29</td>\n",
       "      <td>18</td>\n",
       "      <td>2006</td>\n",
       "      <td>2004</td>\n",
       "      <td>Brooklyn</td>\n",
       "      <td>True</td>\n",
       "      <td>False</td>\n",
       "      <td>Phone</td>\n",
       "      <td>CCRB</td>\n",
       "      <td>False</td>\n",
       "      <td>Street/highway</td>\n",
       "      <td>2004</td>\n",
       "      <td>Arrest</td>\n",
       "      <td>PD suspected C/V of violation/crime - street</td>\n",
       "      <td>Discourtesy</td>\n",
       "      <td>Word</td>\n",
       "    </tr>\n",
       "    <tr>\n",
       "      <th>3</th>\n",
       "      <td>2016-11-29</td>\n",
       "      <td>18</td>\n",
       "      <td>2006</td>\n",
       "      <td>2004</td>\n",
       "      <td>Brooklyn</td>\n",
       "      <td>True</td>\n",
       "      <td>False</td>\n",
       "      <td>Phone</td>\n",
       "      <td>CCRB</td>\n",
       "      <td>False</td>\n",
       "      <td>Street/highway</td>\n",
       "      <td>2004</td>\n",
       "      <td>Arrest</td>\n",
       "      <td>PD suspected C/V of violation/crime - street</td>\n",
       "      <td>Discourtesy</td>\n",
       "      <td>Word</td>\n",
       "    </tr>\n",
       "    <tr>\n",
       "      <th>4</th>\n",
       "      <td>2016-11-29</td>\n",
       "      <td>18</td>\n",
       "      <td>2006</td>\n",
       "      <td>2004</td>\n",
       "      <td>Brooklyn</td>\n",
       "      <td>True</td>\n",
       "      <td>False</td>\n",
       "      <td>Phone</td>\n",
       "      <td>CCRB</td>\n",
       "      <td>False</td>\n",
       "      <td>Street/highway</td>\n",
       "      <td>2004</td>\n",
       "      <td>Arrest</td>\n",
       "      <td>PD suspected C/V of violation/crime - street</td>\n",
       "      <td>Discourtesy</td>\n",
       "      <td>Word</td>\n",
       "    </tr>\n",
       "  </tbody>\n",
       "</table>\n",
       "</div>"
      ],
      "text/plain": [
       "   DateStamp  UniqueComplaintId  Close Year  Received Year  \\\n",
       "0 2016-11-29                 11        2006           2005   \n",
       "1 2016-11-29                 18        2006           2004   \n",
       "2 2016-11-29                 18        2006           2004   \n",
       "3 2016-11-29                 18        2006           2004   \n",
       "4 2016-11-29                 18        2006           2004   \n",
       "\n",
       "  Borough of Occurrence  Is Full Investigation  Complaint Has Video Evidence  \\\n",
       "0             Manhattan                  False                         False   \n",
       "1              Brooklyn                   True                         False   \n",
       "2              Brooklyn                   True                         False   \n",
       "3              Brooklyn                   True                         False   \n",
       "4              Brooklyn                   True                         False   \n",
       "\n",
       "  Complaint Filed Mode Complaint Filed Place  \\\n",
       "0      On-line website                  CCRB   \n",
       "1                Phone                  CCRB   \n",
       "2                Phone                  CCRB   \n",
       "3                Phone                  CCRB   \n",
       "4                Phone                  CCRB   \n",
       "\n",
       "   Complaint Contains Stop & Frisk Allegations Incident Location  \\\n",
       "0                                        False    Street/highway   \n",
       "1                                        False    Street/highway   \n",
       "2                                        False    Street/highway   \n",
       "3                                        False    Street/highway   \n",
       "4                                        False    Street/highway   \n",
       "\n",
       "   Incident Year     Encounter Outcome  \\\n",
       "0           2005  No Arrest or Summons   \n",
       "1           2004                Arrest   \n",
       "2           2004                Arrest   \n",
       "3           2004                Arrest   \n",
       "4           2004                Arrest   \n",
       "\n",
       "                     Reason For Initial Contact Allegation FADO Type  \\\n",
       "0                                         Other   Abuse of Authority   \n",
       "1  PD suspected C/V of violation/crime - street   Abuse of Authority   \n",
       "2  PD suspected C/V of violation/crime - street          Discourtesy   \n",
       "3  PD suspected C/V of violation/crime - street          Discourtesy   \n",
       "4  PD suspected C/V of violation/crime - street          Discourtesy   \n",
       "\n",
       "                Allegation Description  \n",
       "0                     Threat of arrest  \n",
       "1  Refusal to obtain medical treatment  \n",
       "2                                 Word  \n",
       "3                                 Word  \n",
       "4                                 Word  "
      ]
     },
     "execution_count": 11,
     "metadata": {},
     "output_type": "execute_result"
    }
   ],
   "source": [
    "ccrb.head()"
   ]
  },
  {
   "cell_type": "code",
   "execution_count": null,
   "metadata": {},
   "outputs": [],
   "source": []
  },
  {
   "cell_type": "code",
   "execution_count": null,
   "metadata": {},
   "outputs": [],
   "source": []
  },
  {
   "cell_type": "code",
   "execution_count": null,
   "metadata": {},
   "outputs": [],
   "source": []
  },
  {
   "cell_type": "markdown",
   "metadata": {},
   "source": [
    "## A project on the CCRB dataset\n",
    "the data is from Civilian Complaint Review Board (CCRB), a fully independent NYC board which\n",
    "investigate complaints of alleged misconduct on the part of the New York City Police Department.\n",
    "* The goal of the project is to come up with an application for the police department which uses the data to group each officer against the number of complaints raised i.e rank officers against compaints raised. The application should also be able to show the  most type of allegations raised for each officer and be able to recommend course of action to take for example giving a warning or if the allegations are too many take a different course of action like encouraging anger management classes to the concerned officer or dismissal \n"
   ]
  },
  {
   "cell_type": "markdown",
   "metadata": {},
   "source": [
    "#### complaints received each year vs complaints with video evidence each year"
   ]
  },
  {
   "cell_type": "markdown",
   "metadata": {},
   "source": [
    "## Exploratory Data Analysis\n",
    "The analysis will look at some interesting patterns which can be deduced from this dataset."
   ]
  },
  {
   "cell_type": "code",
   "execution_count": 12,
   "metadata": {},
   "outputs": [],
   "source": [
    "video_evidence = ccrb[ccrb[\"Complaint Has Video Evidence\"]==True]\n",
    "complaints_per_year = ccrb[['UniqueComplaintId','Received Year']].groupby('Received Year').count()\n",
    "complaints_with_video_per_year =video_evidence[['Complaint Has Video Evidence','Received Year']].groupby('Received Year').count()\n"
   ]
  },
  {
   "cell_type": "code",
   "execution_count": 13,
   "metadata": {},
   "outputs": [
    {
     "data": {
      "image/png": "[encoded data removed]",
      "text/plain": [
       "<Figure size 720x432 with 2 Axes>"
      ]
     },
     "metadata": {},
     "output_type": "display_data"
    }
   ],
   "source": [
    "# plot it\n",
    "f, (ax0, ax1) = plt.subplots(1,2, gridspec_kw = {'width_ratios':[1, 1]}, figsize=(10,6))\n",
    "ax0.plot(complaints_per_year.index,complaints_per_year.UniqueComplaintId,'o-')\n",
    "ax1.plot(complaints_with_video_per_year.index,complaints_with_video_per_year['Complaint Has Video Evidence'],'ro-')\n",
    "ax0.set_xlabel('year')\n",
    "ax1.set_xlabel('year')\n",
    "ax0.set_ylabel('number of complaints')\n",
    "ax0.set_title('Number of complaints per year')\n",
    "ax1.set_title('Number of complaints with video evidence per year')\n",
    "f.autofmt_xdate()\n",
    "plt.show()\n"
   ]
  },
  {
   "cell_type": "markdown",
   "metadata": {},
   "source": [
    "number of complaints started increasing from 2003 and the biggest jump was from 2004 to 2005 and they reached their pick in 2007 and they started to decrease gradually. One reason l can attribute this gradual decrease is maybe better police training and also use of videos discouraged police to mistreat citizen\n",
    "the right graph is about the total number of video evidence each year\n",
    "From the 2 graphs we can deduce that there is a clear relationship each year from 2009 between number of complaints  and complaints with video evidence. As the number of video evidence increases the number of complaints decreases."
   ]
  },
  {
   "cell_type": "code",
   "execution_count": null,
   "metadata": {},
   "outputs": [],
   "source": [
    "plt.hist(ccrb['Incident Location'])\n",
    "plt.show()"
   ]
  },
  {
   "cell_type": "code",
   "execution_count": null,
   "metadata": {
    "scrolled": true
   },
   "outputs": [],
   "source": []
  },
  {
   "cell_type": "markdown",
   "metadata": {},
   "source": []
  },
  {
   "cell_type": "code",
   "execution_count": null,
   "metadata": {},
   "outputs": [],
   "source": []
  },
  {
   "cell_type": "code",
   "execution_count": null,
   "metadata": {
    "scrolled": true
   },
   "outputs": [],
   "source": []
  },
  {
   "cell_type": "code",
   "execution_count": null,
   "metadata": {
    "scrolled": true
   },
   "outputs": [],
   "source": [
    "\n",
    "\n"
   ]
  },
  {
   "cell_type": "markdown",
   "metadata": {},
   "source": []
  },
  {
   "cell_type": "code",
   "execution_count": null,
   "metadata": {},
   "outputs": [],
   "source": []
  },
  {
   "cell_type": "code",
   "execution_count": null,
   "metadata": {},
   "outputs": [],
   "source": []
  }
 ],
 "metadata": {
  "kernelspec": {
   "display_name": "Python 2",
   "language": "python",
   "name": "python2"
  },
  "language_info": {
   "codemirror_mode": {
    "name": "ipython",
    "version": 2
   },
   "file_extension": ".py",
   "mimetype": "text/x-python",
   "name": "python",
   "nbconvert_exporter": "python",
   "pygments_lexer": "ipython2",
   "version": "2.7.15"
  }
 },
 "nbformat": 4,
 "nbformat_minor": 2
}
